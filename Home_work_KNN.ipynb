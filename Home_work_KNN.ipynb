{
  "cells": [
    {
      "cell_type": "markdown",
      "metadata": {
        "id": "76z8QI2Ew7kA"
      },
      "source": [
        "<font color='blue' size='7'>**Домашняя работа**</font>  \n",
        "<font color='1A9BFF' size='6'>**Тема: Машинное обучение. Алгоритм KNN**</font>  \n",
        "<font size='5'>**Задание:**</font>  \n",
        "\n",
        "1. Загрузите данные о пассажирах Титаника. Данные можно скачать с сайта Kaggle по ссылке https://www.kaggle.com/c/titanic/data?select=train.csv или загрузить из библиотеки Seaborn командой sns.load_dataset('titanic').\n",
        "2. Проверьте данные на наличие пропусков и обработайте их.\n",
        "3. Если в данных присутствуют категориальные переменные, проведите их обработку.\n",
        "4. Постройте алгоритм K-ближайших соседей (KNN). Для выбора оптимальных гиперпараметров используйте метод gridsearch.\n",
        "5. Проверьте, насколько модель переобучена, используя кросс-валидацию.\n",
        "6. Рассчитайте метрики качества модели: матрицу ошибок, accuracy, precision, recall и AUC-ROC.\n",
        "7. Объясните, имеет ли смысл рассчитывать метрику MAE в данном контексте и почему.\n",
        "\n",
        "\n"
      ]
    },
    {
      "cell_type": "markdown",
      "metadata": {
        "id": "HgQ5fb0q296G"
      },
      "source": [
        "<font size='5'>**Решение:**</font>  "
      ]
    },
    {
      "cell_type": "code",
      "execution_count": null,
      "metadata": {},
      "outputs": [],
      "source": []
    },
    {
      "cell_type": "markdown",
      "metadata": {
        "id": "_lFJ8mU82x64"
      },
      "source": [
        "<font color='1A9BFF'>**Установка и импорт необходимых библиотек**</font>"
      ]
    },
    {
      "cell_type": "code",
      "execution_count": 3,
      "metadata": {
        "id": "R4v3sa4Qw6P_"
      },
      "outputs": [],
      "source": [
        "# для обработки категориальных переменных\n",
        "#!pip install category_encoders -q"
      ]
    },
    {
      "cell_type": "code",
      "execution_count": 1,
      "metadata": {
        "id": "m5xFidqvp_re"
      },
      "outputs": [],
      "source": [
        "import seaborn as sns\n",
        "import numpy as np\n",
        "import pandas as pd\n",
        "from sklearn.model_selection import train_test_split, GridSearchCV, cross_val_score\n",
        "from sklearn.neighbors import KNeighborsClassifier, KNeighborsRegressor\n",
        "from sklearn.metrics import accuracy_score, mean_squared_error\n",
        "from sklearn.preprocessing import StandardScaler,OneHotEncoder\n",
        "import category_encoders as ce\n",
        "\n",
        "from sklearn.metrics import mean_absolute_error, mean_squared_error"
      ]
    },
    {
      "cell_type": "markdown",
      "metadata": {
        "id": "QRgw4FHdtWRK"
      },
      "source": [
        "<font color='1A9BFF'>**Загрузите набор данных титаник**</font>"
      ]
    },
    {
      "cell_type": "code",
      "execution_count": 2,
      "metadata": {
        "id": "-Wp6Y_TAmOly"
      },
      "outputs": [],
      "source": [
        "file_name='train.csv'\n",
        "df = pd.read_csv(file_name)\n",
        "##df = sns.load_dataset('titanic')"
      ]
    },
    {
      "cell_type": "markdown",
      "metadata": {
        "id": "6Ejw5RPl6nBh"
      },
      "source": [
        "## EDA"
      ]
    },
    {
      "cell_type": "markdown",
      "metadata": {
        "id": "_fWSpdiipsuh"
      },
      "source": [
        "<font color='1A9BFF'>**Посмотрите на первые 5 строк**</font>"
      ]
    },
    {
      "cell_type": "code",
      "execution_count": 7,
      "metadata": {
        "id": "54N3N1FPm9b0"
      },
      "outputs": [
        {
          "data": {
            "text/html": [
              "<div>\n",
              "<style scoped>\n",
              "    .dataframe tbody tr th:only-of-type {\n",
              "        vertical-align: middle;\n",
              "    }\n",
              "\n",
              "    .dataframe tbody tr th {\n",
              "        vertical-align: top;\n",
              "    }\n",
              "\n",
              "    .dataframe thead th {\n",
              "        text-align: right;\n",
              "    }\n",
              "</style>\n",
              "<table border=\"1\" class=\"dataframe\">\n",
              "  <thead>\n",
              "    <tr style=\"text-align: right;\">\n",
              "      <th></th>\n",
              "      <th>PassengerId</th>\n",
              "      <th>Survived</th>\n",
              "      <th>Pclass</th>\n",
              "      <th>Name</th>\n",
              "      <th>Sex</th>\n",
              "      <th>Age</th>\n",
              "      <th>SibSp</th>\n",
              "      <th>Parch</th>\n",
              "      <th>Ticket</th>\n",
              "      <th>Fare</th>\n",
              "      <th>Cabin</th>\n",
              "      <th>Embarked</th>\n",
              "    </tr>\n",
              "  </thead>\n",
              "  <tbody>\n",
              "    <tr>\n",
              "      <th>0</th>\n",
              "      <td>1</td>\n",
              "      <td>0</td>\n",
              "      <td>3</td>\n",
              "      <td>Braund, Mr. Owen Harris</td>\n",
              "      <td>male</td>\n",
              "      <td>22.0</td>\n",
              "      <td>1</td>\n",
              "      <td>0</td>\n",
              "      <td>A/5 21171</td>\n",
              "      <td>7.2500</td>\n",
              "      <td>NaN</td>\n",
              "      <td>S</td>\n",
              "    </tr>\n",
              "    <tr>\n",
              "      <th>1</th>\n",
              "      <td>2</td>\n",
              "      <td>1</td>\n",
              "      <td>1</td>\n",
              "      <td>Cumings, Mrs. John Bradley (Florence Briggs Th...</td>\n",
              "      <td>female</td>\n",
              "      <td>38.0</td>\n",
              "      <td>1</td>\n",
              "      <td>0</td>\n",
              "      <td>PC 17599</td>\n",
              "      <td>71.2833</td>\n",
              "      <td>C85</td>\n",
              "      <td>C</td>\n",
              "    </tr>\n",
              "    <tr>\n",
              "      <th>2</th>\n",
              "      <td>3</td>\n",
              "      <td>1</td>\n",
              "      <td>3</td>\n",
              "      <td>Heikkinen, Miss. Laina</td>\n",
              "      <td>female</td>\n",
              "      <td>26.0</td>\n",
              "      <td>0</td>\n",
              "      <td>0</td>\n",
              "      <td>STON/O2. 3101282</td>\n",
              "      <td>7.9250</td>\n",
              "      <td>NaN</td>\n",
              "      <td>S</td>\n",
              "    </tr>\n",
              "    <tr>\n",
              "      <th>3</th>\n",
              "      <td>4</td>\n",
              "      <td>1</td>\n",
              "      <td>1</td>\n",
              "      <td>Futrelle, Mrs. Jacques Heath (Lily May Peel)</td>\n",
              "      <td>female</td>\n",
              "      <td>35.0</td>\n",
              "      <td>1</td>\n",
              "      <td>0</td>\n",
              "      <td>113803</td>\n",
              "      <td>53.1000</td>\n",
              "      <td>C123</td>\n",
              "      <td>S</td>\n",
              "    </tr>\n",
              "    <tr>\n",
              "      <th>4</th>\n",
              "      <td>5</td>\n",
              "      <td>0</td>\n",
              "      <td>3</td>\n",
              "      <td>Allen, Mr. William Henry</td>\n",
              "      <td>male</td>\n",
              "      <td>35.0</td>\n",
              "      <td>0</td>\n",
              "      <td>0</td>\n",
              "      <td>373450</td>\n",
              "      <td>8.0500</td>\n",
              "      <td>NaN</td>\n",
              "      <td>S</td>\n",
              "    </tr>\n",
              "  </tbody>\n",
              "</table>\n",
              "</div>"
            ],
            "text/plain": [
              "   PassengerId  Survived  Pclass  \\\n",
              "0            1         0       3   \n",
              "1            2         1       1   \n",
              "2            3         1       3   \n",
              "3            4         1       1   \n",
              "4            5         0       3   \n",
              "\n",
              "                                                Name     Sex   Age  SibSp  \\\n",
              "0                            Braund, Mr. Owen Harris    male  22.0      1   \n",
              "1  Cumings, Mrs. John Bradley (Florence Briggs Th...  female  38.0      1   \n",
              "2                             Heikkinen, Miss. Laina  female  26.0      0   \n",
              "3       Futrelle, Mrs. Jacques Heath (Lily May Peel)  female  35.0      1   \n",
              "4                           Allen, Mr. William Henry    male  35.0      0   \n",
              "\n",
              "   Parch            Ticket     Fare Cabin Embarked  \n",
              "0      0         A/5 21171   7.2500   NaN        S  \n",
              "1      0          PC 17599  71.2833   C85        C  \n",
              "2      0  STON/O2. 3101282   7.9250   NaN        S  \n",
              "3      0            113803  53.1000  C123        S  \n",
              "4      0            373450   8.0500   NaN        S  "
            ]
          },
          "execution_count": 7,
          "metadata": {},
          "output_type": "execute_result"
        }
      ],
      "source": [
        "# здесь ваш код (может быть несколько ячеек)\n",
        "df.head(5)"
      ]
    },
    {
      "cell_type": "markdown",
      "metadata": {
        "id": "UWDXPyR2qFWq"
      },
      "source": [
        "<font color='1A9BFF'>**Проверьте, все ли типы данных верные. Если где-то назанчен неверный тип данных, исправьте**</font>\n",
        "\n"
      ]
    },
    {
      "cell_type": "code",
      "execution_count": 9,
      "metadata": {
        "id": "TG0xK7XmqMDG"
      },
      "outputs": [
        {
          "name": "stdout",
          "output_type": "stream",
          "text": [
            "<class 'pandas.core.frame.DataFrame'>\n",
            "RangeIndex: 891 entries, 0 to 890\n",
            "Data columns (total 12 columns):\n",
            " #   Column       Non-Null Count  Dtype  \n",
            "---  ------       --------------  -----  \n",
            " 0   PassengerId  891 non-null    int64  \n",
            " 1   Survived     891 non-null    int64  \n",
            " 2   Pclass       891 non-null    int64  \n",
            " 3   Name         891 non-null    object \n",
            " 4   Sex          891 non-null    object \n",
            " 5   Age          714 non-null    float64\n",
            " 6   SibSp        891 non-null    int64  \n",
            " 7   Parch        891 non-null    int64  \n",
            " 8   Ticket       891 non-null    object \n",
            " 9   Fare         891 non-null    float64\n",
            " 10  Cabin        204 non-null    object \n",
            " 11  Embarked     889 non-null    object \n",
            "dtypes: float64(2), int64(5), object(5)\n",
            "memory usage: 83.7+ KB\n"
          ]
        }
      ],
      "source": [
        "# здесь ваш код (может быть несколько ячеек)\n",
        "df.info()"
      ]
    },
    {
      "cell_type": "markdown",
      "metadata": {},
      "source": [
        "><font color='green'>**Ваш вывод: ?????**</font> <br>\n",
        ">Типы дынных назначенны корректно"
      ]
    },
    {
      "cell_type": "markdown",
      "metadata": {
        "id": "Lv6wJzhj5QYW"
      },
      "source": [
        "<font color='1A9BFF'>**Проверка на пропуски**</font>\n",
        "\n"
      ]
    },
    {
      "cell_type": "code",
      "execution_count": 10,
      "metadata": {
        "id": "ab24flex6fHA"
      },
      "outputs": [
        {
          "data": {
            "text/plain": [
              "PassengerId      0\n",
              "Survived         0\n",
              "Pclass           0\n",
              "Name             0\n",
              "Sex              0\n",
              "Age            177\n",
              "SibSp            0\n",
              "Parch            0\n",
              "Ticket           0\n",
              "Fare             0\n",
              "Cabin          687\n",
              "Embarked         2\n",
              "dtype: int64"
            ]
          },
          "execution_count": 10,
          "metadata": {},
          "output_type": "execute_result"
        }
      ],
      "source": [
        "# здесь ваш код (может быть несколько ячеек)\n",
        "df.isnull().sum()"
      ]
    },
    {
      "cell_type": "code",
      "execution_count": 6,
      "metadata": {},
      "outputs": [
        {
          "data": {
            "text/plain": [
              "(891, 12)"
            ]
          },
          "execution_count": 6,
          "metadata": {},
          "output_type": "execute_result"
        }
      ],
      "source": [
        "df.shape"
      ]
    },
    {
      "cell_type": "code",
      "execution_count": 7,
      "metadata": {},
      "outputs": [
        {
          "data": {
            "text/plain": [
              "PassengerId     0.000000\n",
              "Survived        0.000000\n",
              "Pclass          0.000000\n",
              "Name            0.000000\n",
              "Sex             0.000000\n",
              "Age            19.865320\n",
              "SibSp           0.000000\n",
              "Parch           0.000000\n",
              "Ticket          0.000000\n",
              "Fare            0.000000\n",
              "Cabin          77.104377\n",
              "Embarked        0.224467\n",
              "dtype: float64"
            ]
          },
          "execution_count": 7,
          "metadata": {},
          "output_type": "execute_result"
        }
      ],
      "source": [
        "df.isnull().mean()*100"
      ]
    },
    {
      "cell_type": "code",
      "execution_count": 12,
      "metadata": {},
      "outputs": [
        {
          "data": {
            "text/html": [
              "<div>\n",
              "<style scoped>\n",
              "    .dataframe tbody tr th:only-of-type {\n",
              "        vertical-align: middle;\n",
              "    }\n",
              "\n",
              "    .dataframe tbody tr th {\n",
              "        vertical-align: top;\n",
              "    }\n",
              "\n",
              "    .dataframe thead th {\n",
              "        text-align: right;\n",
              "    }\n",
              "</style>\n",
              "<table border=\"1\" class=\"dataframe\">\n",
              "  <thead>\n",
              "    <tr style=\"text-align: right;\">\n",
              "      <th></th>\n",
              "      <th>Cabin</th>\n",
              "      <th>Survived</th>\n",
              "    </tr>\n",
              "    <tr>\n",
              "      <th>Pclass</th>\n",
              "      <th></th>\n",
              "      <th></th>\n",
              "    </tr>\n",
              "  </thead>\n",
              "  <tbody>\n",
              "    <tr>\n",
              "      <th>1</th>\n",
              "      <td>0</td>\n",
              "      <td>19</td>\n",
              "    </tr>\n",
              "    <tr>\n",
              "      <th>2</th>\n",
              "      <td>0</td>\n",
              "      <td>74</td>\n",
              "    </tr>\n",
              "    <tr>\n",
              "      <th>3</th>\n",
              "      <td>0</td>\n",
              "      <td>113</td>\n",
              "    </tr>\n",
              "  </tbody>\n",
              "</table>\n",
              "</div>"
            ],
            "text/plain": [
              "        Cabin  Survived\n",
              "Pclass                 \n",
              "1           0        19\n",
              "2           0        74\n",
              "3           0       113"
            ]
          },
          "execution_count": 12,
          "metadata": {},
          "output_type": "execute_result"
        }
      ],
      "source": [
        "#df[df['Cabin'].notna()].groupby('Pclass')['Cabin'].count()\n",
        "#df[df['Cabin'].isna()].groupby('Pclass').agg({'Cabin': 'count', 'Survived': 'sum'})"
      ]
    },
    {
      "cell_type": "code",
      "execution_count": 22,
      "metadata": {},
      "outputs": [
        {
          "data": {
            "text/html": [
              "<div>\n",
              "<style scoped>\n",
              "    .dataframe tbody tr th:only-of-type {\n",
              "        vertical-align: middle;\n",
              "    }\n",
              "\n",
              "    .dataframe tbody tr th {\n",
              "        vertical-align: top;\n",
              "    }\n",
              "\n",
              "    .dataframe thead th {\n",
              "        text-align: right;\n",
              "    }\n",
              "</style>\n",
              "<table border=\"1\" class=\"dataframe\">\n",
              "  <thead>\n",
              "    <tr style=\"text-align: right;\">\n",
              "      <th></th>\n",
              "      <th>Cabin</th>\n",
              "      <th>Survived</th>\n",
              "    </tr>\n",
              "    <tr>\n",
              "      <th>Pclass</th>\n",
              "      <th></th>\n",
              "      <th></th>\n",
              "    </tr>\n",
              "  </thead>\n",
              "  <tbody>\n",
              "    <tr>\n",
              "      <th>1</th>\n",
              "      <td>176</td>\n",
              "      <td>117</td>\n",
              "    </tr>\n",
              "    <tr>\n",
              "      <th>2</th>\n",
              "      <td>16</td>\n",
              "      <td>13</td>\n",
              "    </tr>\n",
              "    <tr>\n",
              "      <th>3</th>\n",
              "      <td>12</td>\n",
              "      <td>6</td>\n",
              "    </tr>\n",
              "  </tbody>\n",
              "</table>\n",
              "</div>"
            ],
            "text/plain": [
              "        Cabin  Survived\n",
              "Pclass                 \n",
              "1         176       117\n",
              "2          16        13\n",
              "3          12         6"
            ]
          },
          "execution_count": 22,
          "metadata": {},
          "output_type": "execute_result"
        }
      ],
      "source": [
        "# подсчет непустых значений 'Cabin' и количества выживших 'Survived' для каждого класса\n",
        "#df[df['Cabin'].notna()].groupby('Pclass').agg({'Cabin': 'count', 'Survived': 'sum'})\n",
        "\n"
      ]
    },
    {
      "cell_type": "code",
      "execution_count": 14,
      "metadata": {},
      "outputs": [
        {
          "name": "stdout",
          "output_type": "stream",
          "text": [
            "Pclass\n",
            "1    216\n",
            "2    184\n",
            "3    491\n",
            "Name: Survived, dtype: int64\n",
            "Pclass\n",
            "1    136\n",
            "2     87\n",
            "3    119\n",
            "Name: Survived, dtype: int64\n"
          ]
        }
      ],
      "source": [
        "print(df.groupby('Pclass')['Survived'].count())\n",
        "print(df.groupby('Pclass')['Survived'].sum())"
      ]
    },
    {
      "cell_type": "code",
      "execution_count": 20,
      "metadata": {},
      "outputs": [
        {
          "data": {
            "text/plain": [
              "Pclass\n",
              "1    0.664773\n",
              "2    0.812500\n",
              "3    0.500000\n",
              "dtype: float64"
            ]
          },
          "execution_count": 20,
          "metadata": {},
          "output_type": "execute_result"
        }
      ],
      "source": [
        "#количесвто спашихся в каждом класе у кого заполнены номера кают \n",
        "#деленное на общее количество записей в котрых заполнены номера кают\n",
        "df[df['Cabin'].notna()].groupby('Pclass')['Survived'].sum()/df[df['Cabin'].notna()].groupby('Pclass')['Cabin'].count()"
      ]
    },
    {
      "cell_type": "code",
      "execution_count": 3,
      "metadata": {},
      "outputs": [
        {
          "data": {
            "text/html": [
              "<div>\n",
              "<style scoped>\n",
              "    .dataframe tbody tr th:only-of-type {\n",
              "        vertical-align: middle;\n",
              "    }\n",
              "\n",
              "    .dataframe tbody tr th {\n",
              "        vertical-align: top;\n",
              "    }\n",
              "\n",
              "    .dataframe thead th {\n",
              "        text-align: right;\n",
              "    }\n",
              "</style>\n",
              "<table border=\"1\" class=\"dataframe\">\n",
              "  <thead>\n",
              "    <tr style=\"text-align: right;\">\n",
              "      <th></th>\n",
              "      <th>PassengerId</th>\n",
              "      <th>Survived</th>\n",
              "      <th>Pclass</th>\n",
              "      <th>Name</th>\n",
              "      <th>Sex</th>\n",
              "      <th>Age</th>\n",
              "      <th>SibSp</th>\n",
              "      <th>Parch</th>\n",
              "      <th>Ticket</th>\n",
              "      <th>Fare</th>\n",
              "      <th>Cabin</th>\n",
              "      <th>Embarked</th>\n",
              "    </tr>\n",
              "  </thead>\n",
              "  <tbody>\n",
              "    <tr>\n",
              "      <th>5</th>\n",
              "      <td>6</td>\n",
              "      <td>0</td>\n",
              "      <td>3</td>\n",
              "      <td>Moran, Mr. James</td>\n",
              "      <td>male</td>\n",
              "      <td>NaN</td>\n",
              "      <td>0</td>\n",
              "      <td>0</td>\n",
              "      <td>330877</td>\n",
              "      <td>8.4583</td>\n",
              "      <td>NaN</td>\n",
              "      <td>Q</td>\n",
              "    </tr>\n",
              "    <tr>\n",
              "      <th>17</th>\n",
              "      <td>18</td>\n",
              "      <td>1</td>\n",
              "      <td>2</td>\n",
              "      <td>Williams, Mr. Charles Eugene</td>\n",
              "      <td>male</td>\n",
              "      <td>NaN</td>\n",
              "      <td>0</td>\n",
              "      <td>0</td>\n",
              "      <td>244373</td>\n",
              "      <td>13.0000</td>\n",
              "      <td>NaN</td>\n",
              "      <td>S</td>\n",
              "    </tr>\n",
              "    <tr>\n",
              "      <th>19</th>\n",
              "      <td>20</td>\n",
              "      <td>1</td>\n",
              "      <td>3</td>\n",
              "      <td>Masselmani, Mrs. Fatima</td>\n",
              "      <td>female</td>\n",
              "      <td>NaN</td>\n",
              "      <td>0</td>\n",
              "      <td>0</td>\n",
              "      <td>2649</td>\n",
              "      <td>7.2250</td>\n",
              "      <td>NaN</td>\n",
              "      <td>C</td>\n",
              "    </tr>\n",
              "    <tr>\n",
              "      <th>26</th>\n",
              "      <td>27</td>\n",
              "      <td>0</td>\n",
              "      <td>3</td>\n",
              "      <td>Emir, Mr. Farred Chehab</td>\n",
              "      <td>male</td>\n",
              "      <td>NaN</td>\n",
              "      <td>0</td>\n",
              "      <td>0</td>\n",
              "      <td>2631</td>\n",
              "      <td>7.2250</td>\n",
              "      <td>NaN</td>\n",
              "      <td>C</td>\n",
              "    </tr>\n",
              "    <tr>\n",
              "      <th>28</th>\n",
              "      <td>29</td>\n",
              "      <td>1</td>\n",
              "      <td>3</td>\n",
              "      <td>O'Dwyer, Miss. Ellen \"Nellie\"</td>\n",
              "      <td>female</td>\n",
              "      <td>NaN</td>\n",
              "      <td>0</td>\n",
              "      <td>0</td>\n",
              "      <td>330959</td>\n",
              "      <td>7.8792</td>\n",
              "      <td>NaN</td>\n",
              "      <td>Q</td>\n",
              "    </tr>\n",
              "    <tr>\n",
              "      <th>...</th>\n",
              "      <td>...</td>\n",
              "      <td>...</td>\n",
              "      <td>...</td>\n",
              "      <td>...</td>\n",
              "      <td>...</td>\n",
              "      <td>...</td>\n",
              "      <td>...</td>\n",
              "      <td>...</td>\n",
              "      <td>...</td>\n",
              "      <td>...</td>\n",
              "      <td>...</td>\n",
              "      <td>...</td>\n",
              "    </tr>\n",
              "    <tr>\n",
              "      <th>859</th>\n",
              "      <td>860</td>\n",
              "      <td>0</td>\n",
              "      <td>3</td>\n",
              "      <td>Razi, Mr. Raihed</td>\n",
              "      <td>male</td>\n",
              "      <td>NaN</td>\n",
              "      <td>0</td>\n",
              "      <td>0</td>\n",
              "      <td>2629</td>\n",
              "      <td>7.2292</td>\n",
              "      <td>NaN</td>\n",
              "      <td>C</td>\n",
              "    </tr>\n",
              "    <tr>\n",
              "      <th>863</th>\n",
              "      <td>864</td>\n",
              "      <td>0</td>\n",
              "      <td>3</td>\n",
              "      <td>Sage, Miss. Dorothy Edith \"Dolly\"</td>\n",
              "      <td>female</td>\n",
              "      <td>NaN</td>\n",
              "      <td>8</td>\n",
              "      <td>2</td>\n",
              "      <td>CA. 2343</td>\n",
              "      <td>69.5500</td>\n",
              "      <td>NaN</td>\n",
              "      <td>S</td>\n",
              "    </tr>\n",
              "    <tr>\n",
              "      <th>868</th>\n",
              "      <td>869</td>\n",
              "      <td>0</td>\n",
              "      <td>3</td>\n",
              "      <td>van Melkebeke, Mr. Philemon</td>\n",
              "      <td>male</td>\n",
              "      <td>NaN</td>\n",
              "      <td>0</td>\n",
              "      <td>0</td>\n",
              "      <td>345777</td>\n",
              "      <td>9.5000</td>\n",
              "      <td>NaN</td>\n",
              "      <td>S</td>\n",
              "    </tr>\n",
              "    <tr>\n",
              "      <th>878</th>\n",
              "      <td>879</td>\n",
              "      <td>0</td>\n",
              "      <td>3</td>\n",
              "      <td>Laleff, Mr. Kristo</td>\n",
              "      <td>male</td>\n",
              "      <td>NaN</td>\n",
              "      <td>0</td>\n",
              "      <td>0</td>\n",
              "      <td>349217</td>\n",
              "      <td>7.8958</td>\n",
              "      <td>NaN</td>\n",
              "      <td>S</td>\n",
              "    </tr>\n",
              "    <tr>\n",
              "      <th>888</th>\n",
              "      <td>889</td>\n",
              "      <td>0</td>\n",
              "      <td>3</td>\n",
              "      <td>Johnston, Miss. Catherine Helen \"Carrie\"</td>\n",
              "      <td>female</td>\n",
              "      <td>NaN</td>\n",
              "      <td>1</td>\n",
              "      <td>2</td>\n",
              "      <td>W./C. 6607</td>\n",
              "      <td>23.4500</td>\n",
              "      <td>NaN</td>\n",
              "      <td>S</td>\n",
              "    </tr>\n",
              "  </tbody>\n",
              "</table>\n",
              "<p>177 rows × 12 columns</p>\n",
              "</div>"
            ],
            "text/plain": [
              "     PassengerId  Survived  Pclass                                      Name  \\\n",
              "5              6         0       3                          Moran, Mr. James   \n",
              "17            18         1       2              Williams, Mr. Charles Eugene   \n",
              "19            20         1       3                   Masselmani, Mrs. Fatima   \n",
              "26            27         0       3                   Emir, Mr. Farred Chehab   \n",
              "28            29         1       3             O'Dwyer, Miss. Ellen \"Nellie\"   \n",
              "..           ...       ...     ...                                       ...   \n",
              "859          860         0       3                          Razi, Mr. Raihed   \n",
              "863          864         0       3         Sage, Miss. Dorothy Edith \"Dolly\"   \n",
              "868          869         0       3               van Melkebeke, Mr. Philemon   \n",
              "878          879         0       3                        Laleff, Mr. Kristo   \n",
              "888          889         0       3  Johnston, Miss. Catherine Helen \"Carrie\"   \n",
              "\n",
              "        Sex  Age  SibSp  Parch      Ticket     Fare Cabin Embarked  \n",
              "5      male  NaN      0      0      330877   8.4583   NaN        Q  \n",
              "17     male  NaN      0      0      244373  13.0000   NaN        S  \n",
              "19   female  NaN      0      0        2649   7.2250   NaN        C  \n",
              "26     male  NaN      0      0        2631   7.2250   NaN        C  \n",
              "28   female  NaN      0      0      330959   7.8792   NaN        Q  \n",
              "..      ...  ...    ...    ...         ...      ...   ...      ...  \n",
              "859    male  NaN      0      0        2629   7.2292   NaN        C  \n",
              "863  female  NaN      8      2    CA. 2343  69.5500   NaN        S  \n",
              "868    male  NaN      0      0      345777   9.5000   NaN        S  \n",
              "878    male  NaN      0      0      349217   7.8958   NaN        S  \n",
              "888  female  NaN      1      2  W./C. 6607  23.4500   NaN        S  \n",
              "\n",
              "[177 rows x 12 columns]"
            ]
          },
          "execution_count": 3,
          "metadata": {},
          "output_type": "execute_result"
        }
      ],
      "source": [
        "df[df['Age'].isna()]"
      ]
    },
    {
      "cell_type": "code",
      "execution_count": 11,
      "metadata": {},
      "outputs": [
        {
          "name": "stdout",
          "output_type": "stream",
          "text": [
            "Средний возраст спасшихся мужчин: 27.276021505376345\n",
            "Средний возраст НЕ спасшихся мужчин: 31.618055555555557\n",
            "Средний возраст спасшихся женщин: 28.84771573604061\n",
            "Средний возраст НЕ спасшихся женщин: 25.046875\n"
          ]
        }
      ],
      "source": [
        "print('Средний возраст спасшихся мужчин:', df[(df['Survived'] == 1) & (df['Sex'] == 'male')]['Age'].mean())\n",
        "print('Средний возраст НЕ спасшихся мужчин:', df[(df['Survived'] == 0) & (df['Sex'] == 'male')]['Age'].mean())\n",
        "print('Средний возраст спасшихся женщин:', df[(df['Survived'] == 1) & (df['Sex'] == 'female')]['Age'].mean())\n",
        "print('Средний возраст НЕ спасшихся женщин:', df[(df['Survived'] == 0) & (df['Sex'] == 'female')]['Age'].mean())"
      ]
    },
    {
      "cell_type": "code",
      "execution_count": 3,
      "metadata": {},
      "outputs": [],
      "source": [
        "#Замена пропущенных значений средним занчением в соовтесвтующей группе\n",
        "def fill_age(row):\n",
        "    if pd.isnull(row['Age']):\n",
        "        if row['Sex'] == 'male': \n",
        "            if row['Survived'] == 1:\n",
        "                return 27\n",
        "            else:\n",
        "               return 32\n",
        "        else:\n",
        "            if row['Survived'] == 1:\n",
        "                return 29\n",
        "            else:\n",
        "               return 25\n",
        "    else:\n",
        "        return row['Age']\n",
        "\n",
        "# Применение функции к DataFrame\n",
        "df['Age'] = df.apply(fill_age, axis=1)\n"
      ]
    },
    {
      "cell_type": "code",
      "execution_count": 4,
      "metadata": {},
      "outputs": [],
      "source": [
        "# Нахождение наиболее часто встречающегося значения в столбце 'Embarked'  \n",
        "\n",
        "df['Embarked'].fillna(df['Embarked'].mode()[0], inplace=True)\n"
      ]
    },
    {
      "cell_type": "code",
      "execution_count": 6,
      "metadata": {},
      "outputs": [
        {
          "data": {
            "text/plain": [
              "PassengerId     0.000000\n",
              "Survived        0.000000\n",
              "Pclass          0.000000\n",
              "Name            0.000000\n",
              "Sex             0.000000\n",
              "Age             0.000000\n",
              "SibSp           0.000000\n",
              "Parch           0.000000\n",
              "Ticket          0.000000\n",
              "Fare            0.000000\n",
              "Cabin          77.104377\n",
              "Embarked        0.000000\n",
              "dtype: float64"
            ]
          },
          "execution_count": 6,
          "metadata": {},
          "output_type": "execute_result"
        }
      ],
      "source": [
        "df.isnull().mean()*100"
      ]
    },
    {
      "cell_type": "markdown",
      "metadata": {
        "id": "ntxnA1ss68cp"
      },
      "source": [
        "><font color='green'>**Ваш вывод: ?????**</font><br>\n",
        "1. В столбце 'Cabin' большое количетсво пропусков. В основном пропуски содержат записи пассажиров 3-го класса. Можно было бы предположить что большинтво пассажиров 3-го класса плыло в трюмах и у них не было отдельных кают. Тогда можно было бы добавить столбец содержащий значения 1 для пассажиров у которых заполнены данные поля и 0 для запеисей в кторых номера кают не заполнены. Но оценка отношения числа спасшихся пассажиров в классе  к общему количесвту пассажиров с заполнеными значениями номеро вкают показывает что примерно половина пассажиров у которых были отельные каюты не спаслись. Из чего модно сделать вывод что этот признак не оказывает существенного влияния на целевой переменую и столбец 'Cabin' можно не использвоать в модели\n",
        "\n"
      ]
    },
    {
      "cell_type": "markdown",
      "metadata": {},
      "source": [
        "Значени в столбце \"Возраст\" были поделены на группы по признакам пола и спашихся/не спасшихся паасжиров. Пропуски в  группах были заполенны срденим значением по соотвествующих группе. "
      ]
    },
    {
      "cell_type": "markdown",
      "metadata": {
        "id": "zQaRzShb6vrL"
      },
      "source": [
        "<font color='1A9BFF'>**анализ категориальных переменных**</font>\n",
        "\n"
      ]
    },
    {
      "cell_type": "markdown",
      "metadata": {
        "id": "fRX5j_Mi7EEy"
      },
      "source": [
        "сколько категориальных признаков"
      ]
    },
    {
      "cell_type": "code",
      "execution_count": 8,
      "metadata": {
        "id": "G7v19EeB7H2m"
      },
      "outputs": [
        {
          "data": {
            "text/html": [
              "<div>\n",
              "<style scoped>\n",
              "    .dataframe tbody tr th:only-of-type {\n",
              "        vertical-align: middle;\n",
              "    }\n",
              "\n",
              "    .dataframe tbody tr th {\n",
              "        vertical-align: top;\n",
              "    }\n",
              "\n",
              "    .dataframe thead th {\n",
              "        text-align: right;\n",
              "    }\n",
              "</style>\n",
              "<table border=\"1\" class=\"dataframe\">\n",
              "  <thead>\n",
              "    <tr style=\"text-align: right;\">\n",
              "      <th></th>\n",
              "      <th>PassengerId</th>\n",
              "      <th>Survived</th>\n",
              "      <th>Pclass</th>\n",
              "      <th>Name</th>\n",
              "      <th>Sex</th>\n",
              "      <th>Age</th>\n",
              "      <th>SibSp</th>\n",
              "      <th>Parch</th>\n",
              "      <th>Ticket</th>\n",
              "      <th>Fare</th>\n",
              "      <th>Cabin</th>\n",
              "      <th>Embarked</th>\n",
              "    </tr>\n",
              "  </thead>\n",
              "  <tbody>\n",
              "    <tr>\n",
              "      <th>count</th>\n",
              "      <td>891.000000</td>\n",
              "      <td>891.000000</td>\n",
              "      <td>891.000000</td>\n",
              "      <td>891</td>\n",
              "      <td>891</td>\n",
              "      <td>891.000000</td>\n",
              "      <td>891.000000</td>\n",
              "      <td>891.000000</td>\n",
              "      <td>891</td>\n",
              "      <td>891.000000</td>\n",
              "      <td>204</td>\n",
              "      <td>891</td>\n",
              "    </tr>\n",
              "    <tr>\n",
              "      <th>unique</th>\n",
              "      <td>NaN</td>\n",
              "      <td>NaN</td>\n",
              "      <td>NaN</td>\n",
              "      <td>891</td>\n",
              "      <td>2</td>\n",
              "      <td>NaN</td>\n",
              "      <td>NaN</td>\n",
              "      <td>NaN</td>\n",
              "      <td>681</td>\n",
              "      <td>NaN</td>\n",
              "      <td>147</td>\n",
              "      <td>3</td>\n",
              "    </tr>\n",
              "    <tr>\n",
              "      <th>top</th>\n",
              "      <td>NaN</td>\n",
              "      <td>NaN</td>\n",
              "      <td>NaN</td>\n",
              "      <td>Hodges, Mr. Henry Price</td>\n",
              "      <td>male</td>\n",
              "      <td>NaN</td>\n",
              "      <td>NaN</td>\n",
              "      <td>NaN</td>\n",
              "      <td>1601</td>\n",
              "      <td>NaN</td>\n",
              "      <td>C23 C25 C27</td>\n",
              "      <td>S</td>\n",
              "    </tr>\n",
              "    <tr>\n",
              "      <th>freq</th>\n",
              "      <td>NaN</td>\n",
              "      <td>NaN</td>\n",
              "      <td>NaN</td>\n",
              "      <td>1</td>\n",
              "      <td>577</td>\n",
              "      <td>NaN</td>\n",
              "      <td>NaN</td>\n",
              "      <td>NaN</td>\n",
              "      <td>7</td>\n",
              "      <td>NaN</td>\n",
              "      <td>4</td>\n",
              "      <td>646</td>\n",
              "    </tr>\n",
              "    <tr>\n",
              "      <th>mean</th>\n",
              "      <td>446.000000</td>\n",
              "      <td>0.383838</td>\n",
              "      <td>2.308642</td>\n",
              "      <td>NaN</td>\n",
              "      <td>NaN</td>\n",
              "      <td>29.811639</td>\n",
              "      <td>0.523008</td>\n",
              "      <td>0.381594</td>\n",
              "      <td>NaN</td>\n",
              "      <td>32.204208</td>\n",
              "      <td>NaN</td>\n",
              "      <td>NaN</td>\n",
              "    </tr>\n",
              "    <tr>\n",
              "      <th>std</th>\n",
              "      <td>257.353842</td>\n",
              "      <td>0.486592</td>\n",
              "      <td>0.836071</td>\n",
              "      <td>NaN</td>\n",
              "      <td>NaN</td>\n",
              "      <td>13.048168</td>\n",
              "      <td>1.102743</td>\n",
              "      <td>0.806057</td>\n",
              "      <td>NaN</td>\n",
              "      <td>49.693429</td>\n",
              "      <td>NaN</td>\n",
              "      <td>NaN</td>\n",
              "    </tr>\n",
              "    <tr>\n",
              "      <th>min</th>\n",
              "      <td>1.000000</td>\n",
              "      <td>0.000000</td>\n",
              "      <td>1.000000</td>\n",
              "      <td>NaN</td>\n",
              "      <td>NaN</td>\n",
              "      <td>0.420000</td>\n",
              "      <td>0.000000</td>\n",
              "      <td>0.000000</td>\n",
              "      <td>NaN</td>\n",
              "      <td>0.000000</td>\n",
              "      <td>NaN</td>\n",
              "      <td>NaN</td>\n",
              "    </tr>\n",
              "    <tr>\n",
              "      <th>25%</th>\n",
              "      <td>223.500000</td>\n",
              "      <td>0.000000</td>\n",
              "      <td>2.000000</td>\n",
              "      <td>NaN</td>\n",
              "      <td>NaN</td>\n",
              "      <td>22.000000</td>\n",
              "      <td>0.000000</td>\n",
              "      <td>0.000000</td>\n",
              "      <td>NaN</td>\n",
              "      <td>7.910400</td>\n",
              "      <td>NaN</td>\n",
              "      <td>NaN</td>\n",
              "    </tr>\n",
              "    <tr>\n",
              "      <th>50%</th>\n",
              "      <td>446.000000</td>\n",
              "      <td>0.000000</td>\n",
              "      <td>3.000000</td>\n",
              "      <td>NaN</td>\n",
              "      <td>NaN</td>\n",
              "      <td>29.000000</td>\n",
              "      <td>0.000000</td>\n",
              "      <td>0.000000</td>\n",
              "      <td>NaN</td>\n",
              "      <td>14.454200</td>\n",
              "      <td>NaN</td>\n",
              "      <td>NaN</td>\n",
              "    </tr>\n",
              "    <tr>\n",
              "      <th>75%</th>\n",
              "      <td>668.500000</td>\n",
              "      <td>1.000000</td>\n",
              "      <td>3.000000</td>\n",
              "      <td>NaN</td>\n",
              "      <td>NaN</td>\n",
              "      <td>35.000000</td>\n",
              "      <td>1.000000</td>\n",
              "      <td>0.000000</td>\n",
              "      <td>NaN</td>\n",
              "      <td>31.000000</td>\n",
              "      <td>NaN</td>\n",
              "      <td>NaN</td>\n",
              "    </tr>\n",
              "    <tr>\n",
              "      <th>max</th>\n",
              "      <td>891.000000</td>\n",
              "      <td>1.000000</td>\n",
              "      <td>3.000000</td>\n",
              "      <td>NaN</td>\n",
              "      <td>NaN</td>\n",
              "      <td>80.000000</td>\n",
              "      <td>8.000000</td>\n",
              "      <td>6.000000</td>\n",
              "      <td>NaN</td>\n",
              "      <td>512.329200</td>\n",
              "      <td>NaN</td>\n",
              "      <td>NaN</td>\n",
              "    </tr>\n",
              "  </tbody>\n",
              "</table>\n",
              "</div>"
            ],
            "text/plain": [
              "        PassengerId    Survived      Pclass                     Name   Sex  \\\n",
              "count    891.000000  891.000000  891.000000                      891   891   \n",
              "unique          NaN         NaN         NaN                      891     2   \n",
              "top             NaN         NaN         NaN  Hodges, Mr. Henry Price  male   \n",
              "freq            NaN         NaN         NaN                        1   577   \n",
              "mean     446.000000    0.383838    2.308642                      NaN   NaN   \n",
              "std      257.353842    0.486592    0.836071                      NaN   NaN   \n",
              "min        1.000000    0.000000    1.000000                      NaN   NaN   \n",
              "25%      223.500000    0.000000    2.000000                      NaN   NaN   \n",
              "50%      446.000000    0.000000    3.000000                      NaN   NaN   \n",
              "75%      668.500000    1.000000    3.000000                      NaN   NaN   \n",
              "max      891.000000    1.000000    3.000000                      NaN   NaN   \n",
              "\n",
              "               Age       SibSp       Parch Ticket        Fare        Cabin  \\\n",
              "count   891.000000  891.000000  891.000000    891  891.000000          204   \n",
              "unique         NaN         NaN         NaN    681         NaN          147   \n",
              "top            NaN         NaN         NaN   1601         NaN  C23 C25 C27   \n",
              "freq           NaN         NaN         NaN      7         NaN            4   \n",
              "mean     29.811639    0.523008    0.381594    NaN   32.204208          NaN   \n",
              "std      13.048168    1.102743    0.806057    NaN   49.693429          NaN   \n",
              "min       0.420000    0.000000    0.000000    NaN    0.000000          NaN   \n",
              "25%      22.000000    0.000000    0.000000    NaN    7.910400          NaN   \n",
              "50%      29.000000    0.000000    0.000000    NaN   14.454200          NaN   \n",
              "75%      35.000000    1.000000    0.000000    NaN   31.000000          NaN   \n",
              "max      80.000000    8.000000    6.000000    NaN  512.329200          NaN   \n",
              "\n",
              "       Embarked  \n",
              "count       891  \n",
              "unique        3  \n",
              "top           S  \n",
              "freq        646  \n",
              "mean        NaN  \n",
              "std         NaN  \n",
              "min         NaN  \n",
              "25%         NaN  \n",
              "50%         NaN  \n",
              "75%         NaN  \n",
              "max         NaN  "
            ]
          },
          "execution_count": 8,
          "metadata": {},
          "output_type": "execute_result"
        }
      ],
      "source": [
        "# здесь ваш код (может быть несколько ячеек)\n",
        "df.describe(include='all')"
      ]
    },
    {
      "cell_type": "markdown",
      "metadata": {
        "id": "i1JiZEIN7Isd"
      },
      "source": [
        "Посмотрите на значения категориальных признаков"
      ]
    },
    {
      "cell_type": "code",
      "execution_count": 9,
      "metadata": {
        "id": "yHPZnbSv7NiK"
      },
      "outputs": [
        {
          "data": {
            "text/plain": [
              "male      577\n",
              "female    314\n",
              "Name: Sex, dtype: int64"
            ]
          },
          "execution_count": 9,
          "metadata": {},
          "output_type": "execute_result"
        }
      ],
      "source": [
        "# здесь ваш код (может быть несколько ячеек)\n",
        "df['Sex'].value_counts()"
      ]
    },
    {
      "cell_type": "code",
      "execution_count": 10,
      "metadata": {},
      "outputs": [
        {
          "data": {
            "text/plain": [
              "S    646\n",
              "C    168\n",
              "Q     77\n",
              "Name: Embarked, dtype: int64"
            ]
          },
          "execution_count": 10,
          "metadata": {},
          "output_type": "execute_result"
        }
      ],
      "source": [
        "df['Embarked'].value_counts()"
      ]
    },
    {
      "cell_type": "markdown",
      "metadata": {
        "id": "8PRfqmNZ7dJA"
      },
      "source": [
        "Какие категориальные признаки будем использовать в модели?"
      ]
    },
    {
      "cell_type": "code",
      "execution_count": 5,
      "metadata": {},
      "outputs": [],
      "source": [
        "# Преобразование категориальных переменных в числовые\n",
        "df = pd.get_dummies(df, columns=['Sex', 'Embarked'], drop_first=True)\n"
      ]
    },
    {
      "cell_type": "code",
      "execution_count": 11,
      "metadata": {},
      "outputs": [
        {
          "data": {
            "text/html": [
              "<div>\n",
              "<style scoped>\n",
              "    .dataframe tbody tr th:only-of-type {\n",
              "        vertical-align: middle;\n",
              "    }\n",
              "\n",
              "    .dataframe tbody tr th {\n",
              "        vertical-align: top;\n",
              "    }\n",
              "\n",
              "    .dataframe thead th {\n",
              "        text-align: right;\n",
              "    }\n",
              "</style>\n",
              "<table border=\"1\" class=\"dataframe\">\n",
              "  <thead>\n",
              "    <tr style=\"text-align: right;\">\n",
              "      <th></th>\n",
              "      <th>PassengerId</th>\n",
              "      <th>Survived</th>\n",
              "      <th>Pclass</th>\n",
              "      <th>Name</th>\n",
              "      <th>Age</th>\n",
              "      <th>SibSp</th>\n",
              "      <th>Parch</th>\n",
              "      <th>Ticket</th>\n",
              "      <th>Fare</th>\n",
              "      <th>Cabin</th>\n",
              "      <th>Sex_male</th>\n",
              "      <th>Embarked_Q</th>\n",
              "      <th>Embarked_S</th>\n",
              "    </tr>\n",
              "  </thead>\n",
              "  <tbody>\n",
              "    <tr>\n",
              "      <th>0</th>\n",
              "      <td>1</td>\n",
              "      <td>0</td>\n",
              "      <td>3</td>\n",
              "      <td>Braund, Mr. Owen Harris</td>\n",
              "      <td>22.0</td>\n",
              "      <td>1</td>\n",
              "      <td>0</td>\n",
              "      <td>A/5 21171</td>\n",
              "      <td>7.2500</td>\n",
              "      <td>NaN</td>\n",
              "      <td>1</td>\n",
              "      <td>0</td>\n",
              "      <td>1</td>\n",
              "    </tr>\n",
              "    <tr>\n",
              "      <th>1</th>\n",
              "      <td>2</td>\n",
              "      <td>1</td>\n",
              "      <td>1</td>\n",
              "      <td>Cumings, Mrs. John Bradley (Florence Briggs Th...</td>\n",
              "      <td>38.0</td>\n",
              "      <td>1</td>\n",
              "      <td>0</td>\n",
              "      <td>PC 17599</td>\n",
              "      <td>71.2833</td>\n",
              "      <td>C85</td>\n",
              "      <td>0</td>\n",
              "      <td>0</td>\n",
              "      <td>0</td>\n",
              "    </tr>\n",
              "    <tr>\n",
              "      <th>2</th>\n",
              "      <td>3</td>\n",
              "      <td>1</td>\n",
              "      <td>3</td>\n",
              "      <td>Heikkinen, Miss. Laina</td>\n",
              "      <td>26.0</td>\n",
              "      <td>0</td>\n",
              "      <td>0</td>\n",
              "      <td>STON/O2. 3101282</td>\n",
              "      <td>7.9250</td>\n",
              "      <td>NaN</td>\n",
              "      <td>0</td>\n",
              "      <td>0</td>\n",
              "      <td>1</td>\n",
              "    </tr>\n",
              "    <tr>\n",
              "      <th>3</th>\n",
              "      <td>4</td>\n",
              "      <td>1</td>\n",
              "      <td>1</td>\n",
              "      <td>Futrelle, Mrs. Jacques Heath (Lily May Peel)</td>\n",
              "      <td>35.0</td>\n",
              "      <td>1</td>\n",
              "      <td>0</td>\n",
              "      <td>113803</td>\n",
              "      <td>53.1000</td>\n",
              "      <td>C123</td>\n",
              "      <td>0</td>\n",
              "      <td>0</td>\n",
              "      <td>1</td>\n",
              "    </tr>\n",
              "    <tr>\n",
              "      <th>4</th>\n",
              "      <td>5</td>\n",
              "      <td>0</td>\n",
              "      <td>3</td>\n",
              "      <td>Allen, Mr. William Henry</td>\n",
              "      <td>35.0</td>\n",
              "      <td>0</td>\n",
              "      <td>0</td>\n",
              "      <td>373450</td>\n",
              "      <td>8.0500</td>\n",
              "      <td>NaN</td>\n",
              "      <td>1</td>\n",
              "      <td>0</td>\n",
              "      <td>1</td>\n",
              "    </tr>\n",
              "  </tbody>\n",
              "</table>\n",
              "</div>"
            ],
            "text/plain": [
              "   PassengerId  Survived  Pclass  \\\n",
              "0            1         0       3   \n",
              "1            2         1       1   \n",
              "2            3         1       3   \n",
              "3            4         1       1   \n",
              "4            5         0       3   \n",
              "\n",
              "                                                Name   Age  SibSp  Parch  \\\n",
              "0                            Braund, Mr. Owen Harris  22.0      1      0   \n",
              "1  Cumings, Mrs. John Bradley (Florence Briggs Th...  38.0      1      0   \n",
              "2                             Heikkinen, Miss. Laina  26.0      0      0   \n",
              "3       Futrelle, Mrs. Jacques Heath (Lily May Peel)  35.0      1      0   \n",
              "4                           Allen, Mr. William Henry  35.0      0      0   \n",
              "\n",
              "             Ticket     Fare Cabin  Sex_male  Embarked_Q  Embarked_S  \n",
              "0         A/5 21171   7.2500   NaN         1           0           1  \n",
              "1          PC 17599  71.2833   C85         0           0           0  \n",
              "2  STON/O2. 3101282   7.9250   NaN         0           0           1  \n",
              "3            113803  53.1000  C123         0           0           1  \n",
              "4            373450   8.0500   NaN         1           0           1  "
            ]
          },
          "execution_count": 11,
          "metadata": {},
          "output_type": "execute_result"
        }
      ],
      "source": [
        "df.head()"
      ]
    },
    {
      "cell_type": "markdown",
      "metadata": {
        "id": "Gmh3Izbm7U2Q"
      },
      "source": [
        "><font color='green'>**Ваш вывод:  ?????**</font>\n",
        "\n"
      ]
    },
    {
      "cell_type": "markdown",
      "metadata": {},
      "source": [
        "Признак пола оказывает вляние на шансы выжить, поэтому к нему применили метод преобразвония категориальных переменных, остальные признаки не оказывают влияние на целевой признак, поэтому они в модели учитываться не будут."
      ]
    },
    {
      "cell_type": "markdown",
      "metadata": {
        "id": "EDfImQUJ7lQx"
      },
      "source": [
        "## Разделим выборку на тренировочную и тестовую"
      ]
    },
    {
      "cell_type": "code",
      "execution_count": 6,
      "metadata": {
        "id": "j4fDWYHM7sKr"
      },
      "outputs": [],
      "source": [
        "# здесь ваш код (может быть несколько ячеек)\n",
        "X = df[['Pclass', 'Age', 'SibSp', 'Parch', 'Fare', 'Sex_male', 'Embarked_Q', 'Embarked_S']]\n",
        "y = df['Survived']\n"
      ]
    },
    {
      "cell_type": "code",
      "execution_count": 7,
      "metadata": {},
      "outputs": [],
      "source": [
        "# Разделение данных на обучающую и тестовую выборки\n",
        "X_train, X_test, y_train, y_test = train_test_split(X, y, test_size=0.2, random_state=42)\n"
      ]
    },
    {
      "cell_type": "code",
      "execution_count": 8,
      "metadata": {},
      "outputs": [],
      "source": [
        "# Масштабирование признаков\n",
        "scaler = StandardScaler()\n",
        "X_train = scaler.fit_transform(X_train)\n",
        "X_test = scaler.transform(X_test)\n"
      ]
    },
    {
      "cell_type": "markdown",
      "metadata": {
        "id": "7m0uQUes7ta9"
      },
      "source": [
        "## Подготовка датасета к построению моделей"
      ]
    },
    {
      "cell_type": "markdown",
      "metadata": {
        "id": "lRr6D0A_9-lX"
      },
      "source": [
        "<font color='red'>**! Важно! Все трансформеры обучаем на тренировочной выборке, к тестовой только применяем!**</font>\n",
        "\n"
      ]
    },
    {
      "cell_type": "markdown",
      "metadata": {
        "id": "Pbld6mUe71dF"
      },
      "source": [
        "<font color='1A9BFF'>**Обработка пропусков**</font>\n",
        "\n"
      ]
    },
    {
      "cell_type": "code",
      "execution_count": null,
      "metadata": {
        "id": "ml6ubcd18KdQ"
      },
      "outputs": [],
      "source": [
        "# здесь ваш код (может быть несколько ячеек)"
      ]
    },
    {
      "cell_type": "markdown",
      "metadata": {
        "id": "DuBHrTjJ8NLP"
      },
      "source": [
        "<font color='1A9BFF'>**Обработка категориальных признаков**</font>\n",
        "\n"
      ]
    },
    {
      "cell_type": "code",
      "execution_count": null,
      "metadata": {
        "id": "qC_V3oib8LaS"
      },
      "outputs": [],
      "source": [
        "# здесь ваш код (может быть несколько ячеек)"
      ]
    },
    {
      "cell_type": "markdown",
      "metadata": {
        "id": "DS6_Zzem8Sew"
      },
      "source": [
        "><font color='green'>**Ваш вывод:  ?????**</font><br>\n",
        "выполненно в предыдущих пунктах\n"
      ]
    },
    {
      "cell_type": "markdown",
      "metadata": {
        "id": "u24QZEWd8UJI"
      },
      "source": [
        "## Построение модели"
      ]
    },
    {
      "cell_type": "markdown",
      "metadata": {
        "id": "AKepqZcz8aNS"
      },
      "source": [
        "<font color='1A9BFF'>**1. Задайте сетку параметров для параметров: n_neighbors, p**</font>   \n",
        "<font color='1A9BFF'>**2. С помощью gridsearch выберите наилучшие параметры n_neighbors, p**</font>   \n",
        "<font color='1A9BFF'>**3. С помощью кросс-валидации убедитесь, что модель с минимальным переобучением**</font>\n",
        "\n"
      ]
    },
    {
      "cell_type": "code",
      "execution_count": 9,
      "metadata": {
        "id": "W9u40QbC8XVO"
      },
      "outputs": [],
      "source": [
        "# здесь ваш код (может быть несколько ячеек)\n",
        "# Задание сетки параметров\n",
        "param_grid = {\n",
        "    'n_neighbors': [3, 5, 7, 9, 11],\n",
        "    'p': [1, 2]\n",
        "}\n"
      ]
    },
    {
      "cell_type": "code",
      "execution_count": 10,
      "metadata": {},
      "outputs": [
        {
          "name": "stdout",
          "output_type": "stream",
          "text": [
            "Best parameters: {'n_neighbors': 3, 'p': 2}\n"
          ]
        }
      ],
      "source": [
        "\n",
        "\n",
        "knn = KNeighborsClassifier()\n",
        "grid_search = GridSearchCV(knn, param_grid, cv=5, scoring='accuracy')\n",
        "grid_search.fit(X_train, y_train)\n",
        "\n",
        "\n",
        "print(f'Best parameters: {grid_search.best_params_}')\n",
        "\n"
      ]
    },
    {
      "cell_type": "code",
      "execution_count": 11,
      "metadata": {},
      "outputs": [
        {
          "name": "stdout",
          "output_type": "stream",
          "text": [
            "Accuracy: 0.80\n"
          ]
        }
      ],
      "source": [
        "# Оценка модели с наилучшими параметрами\n",
        "best_knn = grid_search.best_estimator_\n",
        "y_pred = best_knn.predict(X_test)\n",
        "accuracy = accuracy_score(y_test, y_pred)\n",
        "\n",
        "print(f'Accuracy: {accuracy:.2f}')\n",
        "\n"
      ]
    },
    {
      "cell_type": "code",
      "execution_count": 19,
      "metadata": {},
      "outputs": [
        {
          "name": "stdout",
          "output_type": "stream",
          "text": [
            "Cross-validation scores: [0.68715084 0.7247191  0.74157303 0.76966292 0.74719101]\n",
            "Mean cross-validation score: 0.73\n"
          ]
        }
      ],
      "source": [
        "# Кросс-валидация для оценки модели\n",
        "cv_scores = cross_val_score(best_knn, X, y, cv=5)\n",
        "print(f'Cross-validation scores: {cv_scores}')\n",
        "print(f'Mean cross-validation score: {cv_scores.mean():.2f}')"
      ]
    },
    {
      "cell_type": "markdown",
      "metadata": {
        "id": "rUS9_ymv9e8R"
      },
      "source": [
        "><font color='green'>**Ваш вывод:  ?????**</font> <br>\n",
        "Оценка модели с помощью кросс валидации показала что модель не переобучена и параметры подорбраны оптимально\n"
      ]
    },
    {
      "cell_type": "markdown",
      "metadata": {
        "id": "dAKWcu8Y9SfX"
      },
      "source": [
        "## Оценка качества финальной модели"
      ]
    },
    {
      "cell_type": "markdown",
      "metadata": {
        "id": "-PazUVIU9WgI"
      },
      "source": [
        "\n",
        "\n",
        "<font color='1A9BFF'>**Посчитайте метрики качества: матрицу ошибок, accuracy, precision, recall, AUC ROC**</font>   "
      ]
    },
    {
      "cell_type": "code",
      "execution_count": 14,
      "metadata": {},
      "outputs": [],
      "source": [
        "from sklearn.metrics import accuracy_score, precision_score, recall_score, roc_auc_score, confusion_matrix, roc_curve"
      ]
    },
    {
      "cell_type": "code",
      "execution_count": 12,
      "metadata": {
        "id": "D7hyDvmp9gvY"
      },
      "outputs": [],
      "source": [
        "# здесь ваш код (может быть несколько ячеек)\n",
        "y_pred = best_knn.predict(X_test)\n",
        "y_pred_proba = best_knn.predict_proba(X_test)[:, 1]"
      ]
    },
    {
      "cell_type": "code",
      "execution_count": 15,
      "metadata": {},
      "outputs": [
        {
          "name": "stdout",
          "output_type": "stream",
          "text": [
            "Accuracy: 0.80\n",
            "Precision: 0.76\n",
            "Recall: 0.74\n",
            "AUC ROC: 0.84\n",
            "Confusion Matrix:\n",
            "[[88 17]\n",
            " [19 55]]\n"
          ]
        }
      ],
      "source": [
        "accuracy = accuracy_score(y_test, y_pred)\n",
        "precision = precision_score(y_test, y_pred)\n",
        "recall = recall_score(y_test, y_pred)\n",
        "roc_auc = roc_auc_score(y_test, y_pred_proba)\n",
        "conf_matrix = confusion_matrix(y_test, y_pred)\n",
        "\n",
        "print(f'Accuracy: {accuracy:.2f}')\n",
        "print(f'Precision: {precision:.2f}')\n",
        "print(f'Recall: {recall:.2f}')\n",
        "print(f'AUC ROC: {roc_auc:.2f}')\n",
        "print(f'Confusion Matrix:\\n{conf_matrix}')"
      ]
    },
    {
      "cell_type": "markdown",
      "metadata": {
        "id": "h48TGrZc_cme"
      },
      "source": [
        "\n",
        "<font color='1A9BFF'>**постройте график ROC кривой**</font>   "
      ]
    },
    {
      "cell_type": "code",
      "execution_count": 17,
      "metadata": {},
      "outputs": [],
      "source": [
        "import matplotlib.pyplot as plt"
      ]
    },
    {
      "cell_type": "code",
      "execution_count": 18,
      "metadata": {
        "id": "MEz6vr3V_iA6"
      },
      "outputs": [
        {
          "data": {
            "image/png": "[encoded data removed]",
            "text/plain": [
              "<Figure size 432x288 with 1 Axes>"
            ]
          },
          "metadata": {
            "needs_background": "light"
          },
          "output_type": "display_data"
        }
      ],
      "source": [
        "# здесь ваш код (может быть несколько ячеек)\n",
        "fpr, tpr, _ = roc_curve(y_test, y_pred_proba)\n",
        "plt.figure()\n",
        "plt.plot(fpr, tpr, color='blue', lw=2, label='ROC curve (area = %0.2f)' % roc_auc)\n",
        "plt.plot([0, 1], [0, 1], color='gray', lw=2, linestyle='--')\n",
        "plt.xlim([0.0, 1.0])\n",
        "plt.ylim([0.0, 1.05])\n",
        "plt.xlabel('False Positive Rate')\n",
        "plt.ylabel('True Positive Rate')\n",
        "plt.title('Receiver Operating Characteristic (ROC) Curve')\n",
        "plt.legend(loc=\"lower right\")\n",
        "plt.show()"
      ]
    },
    {
      "cell_type": "markdown",
      "metadata": {
        "id": "6HVDYe0b9idw"
      },
      "source": [
        "><font color='green'>**Ваш вывод:  ?????**</font><br>\n",
        "Площадь под криовй близка к единице, что говорит о высокой точности модели\n",
        "\n"
      ]
    },
    {
      "cell_type": "markdown",
      "metadata": {
        "id": "CHVYsGpC9nZW"
      },
      "source": [
        "## Ответ на вопрос"
      ]
    },
    {
      "cell_type": "markdown",
      "metadata": {
        "id": "xlNT79wJ9qJO"
      },
      "source": [
        "<font color='1A9BFF'>**Имеет ли смысл считать метрику MAE? Почему?**</font>   "
      ]
    },
    {
      "cell_type": "markdown",
      "metadata": {
        "id": "3YCojHLZ9xJA"
      },
      "source": [
        "><font color='green'>**Ваш вывод:  ?????**</font><br>\n",
        "МАЕ применяется к числовым признакам, в шагем случае стоит задача классификации а не регриссии\n"
      ]
    }
  ],
  "metadata": {
    "colab": {
      "provenance": []
    },
    "kernelspec": {
      "display_name": "Python 3",
      "name": "python3"
    },
    "language_info": {
      "codemirror_mode": {
        "name": "ipython",
        "version": 3
      },
      "file_extension": ".py",
      "mimetype": "text/x-python",
      "name": "python",
      "nbconvert_exporter": "python",
      "pygments_lexer": "ipython3",
      "version": "3.8.8"
    }
  },
  "nbformat": 4,
  "nbformat_minor": 0
}
